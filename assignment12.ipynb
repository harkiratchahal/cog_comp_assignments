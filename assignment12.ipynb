{
  "cells": [
    {
      "cell_type": "markdown",
      "metadata": {
        "id": "bRsejfOeoQ_S"
      },
      "source": [
        "**Assignment 12 CC By Vansh Harkirat Singh(102316035)**"
      ]
    },
    {
      "cell_type": "code",
      "execution_count": 5,
      "metadata": {
        "colab": {
          "base_uri": "https://localhost:8080/",
          "height": 1000
        },
        "id": "THqx8FLSoLos",
        "outputId": "e3bafbc2-0c8e-477f-f0ca-3e985d0c59bc"
      },
      "outputs": [
        {
          "name": "stdout",
          "output_type": "stream",
          "text": [
            "Requirement already satisfied: chatterbot in c:\\users\\harsh\\desktop\\cognitive computing\\myenv\\lib\\site-packages (1.2.6)\n",
            "Requirement already satisfied: mathparse<0.2,>=0.1 in c:\\users\\harsh\\desktop\\cognitive computing\\myenv\\lib\\site-packages (from chatterbot) (0.1.5)\n",
            "Requirement already satisfied: python-dateutil<2.10,>=2.9 in c:\\users\\harsh\\desktop\\cognitive computing\\myenv\\lib\\site-packages (from chatterbot) (2.9.0.post0)\n",
            "Requirement already satisfied: sqlalchemy<2.1,>=2.0 in c:\\users\\harsh\\desktop\\cognitive computing\\myenv\\lib\\site-packages (from chatterbot) (2.0.40)\n",
            "Requirement already satisfied: spacy<3.9,>=3.8 in c:\\users\\harsh\\desktop\\cognitive computing\\myenv\\lib\\site-packages (from chatterbot) (3.8.5)\n",
            "Requirement already satisfied: tqdm in c:\\users\\harsh\\desktop\\cognitive computing\\myenv\\lib\\site-packages (from chatterbot) (4.67.1)\n",
            "Requirement already satisfied: six>=1.5 in c:\\users\\harsh\\desktop\\cognitive computing\\myenv\\lib\\site-packages (from python-dateutil<2.10,>=2.9->chatterbot) (1.17.0)\n",
            "Requirement already satisfied: spacy-legacy<3.1.0,>=3.0.11 in c:\\users\\harsh\\desktop\\cognitive computing\\myenv\\lib\\site-packages (from spacy<3.9,>=3.8->chatterbot) (3.0.12)\n",
            "Requirement already satisfied: spacy-loggers<2.0.0,>=1.0.0 in c:\\users\\harsh\\desktop\\cognitive computing\\myenv\\lib\\site-packages (from spacy<3.9,>=3.8->chatterbot) (1.0.5)\n",
            "Requirement already satisfied: murmurhash<1.1.0,>=0.28.0 in c:\\users\\harsh\\desktop\\cognitive computing\\myenv\\lib\\site-packages (from spacy<3.9,>=3.8->chatterbot) (1.0.12)\n",
            "Requirement already satisfied: cymem<2.1.0,>=2.0.2 in c:\\users\\harsh\\desktop\\cognitive computing\\myenv\\lib\\site-packages (from spacy<3.9,>=3.8->chatterbot) (2.0.11)\n",
            "Requirement already satisfied: preshed<3.1.0,>=3.0.2 in c:\\users\\harsh\\desktop\\cognitive computing\\myenv\\lib\\site-packages (from spacy<3.9,>=3.8->chatterbot) (3.0.9)\n",
            "Requirement already satisfied: thinc<8.4.0,>=8.3.4 in c:\\users\\harsh\\desktop\\cognitive computing\\myenv\\lib\\site-packages (from spacy<3.9,>=3.8->chatterbot) (8.3.6)\n",
            "Requirement already satisfied: wasabi<1.2.0,>=0.9.1 in c:\\users\\harsh\\desktop\\cognitive computing\\myenv\\lib\\site-packages (from spacy<3.9,>=3.8->chatterbot) (1.1.3)\n",
            "Requirement already satisfied: srsly<3.0.0,>=2.4.3 in c:\\users\\harsh\\desktop\\cognitive computing\\myenv\\lib\\site-packages (from spacy<3.9,>=3.8->chatterbot) (2.5.1)\n",
            "Requirement already satisfied: catalogue<2.1.0,>=2.0.6 in c:\\users\\harsh\\desktop\\cognitive computing\\myenv\\lib\\site-packages (from spacy<3.9,>=3.8->chatterbot) (2.0.10)\n",
            "Requirement already satisfied: weasel<0.5.0,>=0.1.0 in c:\\users\\harsh\\desktop\\cognitive computing\\myenv\\lib\\site-packages (from spacy<3.9,>=3.8->chatterbot) (0.4.1)\n",
            "Requirement already satisfied: typer<1.0.0,>=0.3.0 in c:\\users\\harsh\\desktop\\cognitive computing\\myenv\\lib\\site-packages (from spacy<3.9,>=3.8->chatterbot) (0.15.3)\n",
            "Requirement already satisfied: numpy>=1.19.0 in c:\\users\\harsh\\desktop\\cognitive computing\\myenv\\lib\\site-packages (from spacy<3.9,>=3.8->chatterbot) (2.2.5)\n",
            "Requirement already satisfied: requests<3.0.0,>=2.13.0 in c:\\users\\harsh\\desktop\\cognitive computing\\myenv\\lib\\site-packages (from spacy<3.9,>=3.8->chatterbot) (2.32.3)\n",
            "Requirement already satisfied: pydantic!=1.8,!=1.8.1,<3.0.0,>=1.7.4 in c:\\users\\harsh\\desktop\\cognitive computing\\myenv\\lib\\site-packages (from spacy<3.9,>=3.8->chatterbot) (2.11.4)\n",
            "Requirement already satisfied: jinja2 in c:\\users\\harsh\\desktop\\cognitive computing\\myenv\\lib\\site-packages (from spacy<3.9,>=3.8->chatterbot) (3.1.6)\n",
            "Requirement already satisfied: setuptools in c:\\users\\harsh\\desktop\\cognitive computing\\myenv\\lib\\site-packages (from spacy<3.9,>=3.8->chatterbot) (65.5.0)\n",
            "Requirement already satisfied: packaging>=20.0 in c:\\users\\harsh\\desktop\\cognitive computing\\myenv\\lib\\site-packages (from spacy<3.9,>=3.8->chatterbot) (25.0)\n",
            "Requirement already satisfied: langcodes<4.0.0,>=3.2.0 in c:\\users\\harsh\\desktop\\cognitive computing\\myenv\\lib\\site-packages (from spacy<3.9,>=3.8->chatterbot) (3.5.0)\n",
            "Requirement already satisfied: language-data>=1.2 in c:\\users\\harsh\\desktop\\cognitive computing\\myenv\\lib\\site-packages (from langcodes<4.0.0,>=3.2.0->spacy<3.9,>=3.8->chatterbot) (1.3.0)\n",
            "Requirement already satisfied: annotated-types>=0.6.0 in c:\\users\\harsh\\desktop\\cognitive computing\\myenv\\lib\\site-packages (from pydantic!=1.8,!=1.8.1,<3.0.0,>=1.7.4->spacy<3.9,>=3.8->chatterbot) (0.7.0)\n",
            "Requirement already satisfied: pydantic-core==2.33.2 in c:\\users\\harsh\\desktop\\cognitive computing\\myenv\\lib\\site-packages (from pydantic!=1.8,!=1.8.1,<3.0.0,>=1.7.4->spacy<3.9,>=3.8->chatterbot) (2.33.2)\n",
            "Requirement already satisfied: typing-extensions>=4.12.2 in c:\\users\\harsh\\desktop\\cognitive computing\\myenv\\lib\\site-packages (from pydantic!=1.8,!=1.8.1,<3.0.0,>=1.7.4->spacy<3.9,>=3.8->chatterbot) (4.13.2)\n",
            "Requirement already satisfied: typing-inspection>=0.4.0 in c:\\users\\harsh\\desktop\\cognitive computing\\myenv\\lib\\site-packages (from pydantic!=1.8,!=1.8.1,<3.0.0,>=1.7.4->spacy<3.9,>=3.8->chatterbot) (0.4.0)\n",
            "Requirement already satisfied: charset-normalizer<4,>=2 in c:\\users\\harsh\\desktop\\cognitive computing\\myenv\\lib\\site-packages (from requests<3.0.0,>=2.13.0->spacy<3.9,>=3.8->chatterbot) (3.4.2)\n",
            "Requirement already satisfied: idna<4,>=2.5 in c:\\users\\harsh\\desktop\\cognitive computing\\myenv\\lib\\site-packages (from requests<3.0.0,>=2.13.0->spacy<3.9,>=3.8->chatterbot) (3.10)\n",
            "Requirement already satisfied: urllib3<3,>=1.21.1 in c:\\users\\harsh\\desktop\\cognitive computing\\myenv\\lib\\site-packages (from requests<3.0.0,>=2.13.0->spacy<3.9,>=3.8->chatterbot) (2.4.0)\n",
            "Requirement already satisfied: certifi>=2017.4.17 in c:\\users\\harsh\\desktop\\cognitive computing\\myenv\\lib\\site-packages (from requests<3.0.0,>=2.13.0->spacy<3.9,>=3.8->chatterbot) (2025.4.26)\n",
            "Requirement already satisfied: greenlet>=1 in c:\\users\\harsh\\desktop\\cognitive computing\\myenv\\lib\\site-packages (from sqlalchemy<2.1,>=2.0->chatterbot) (3.2.1)\n",
            "Requirement already satisfied: blis<1.4.0,>=1.3.0 in c:\\users\\harsh\\desktop\\cognitive computing\\myenv\\lib\\site-packages (from thinc<8.4.0,>=8.3.4->spacy<3.9,>=3.8->chatterbot) (1.3.0)\n",
            "Requirement already satisfied: confection<1.0.0,>=0.0.1 in c:\\users\\harsh\\desktop\\cognitive computing\\myenv\\lib\\site-packages (from thinc<8.4.0,>=8.3.4->spacy<3.9,>=3.8->chatterbot) (0.1.5)\n",
            "Requirement already satisfied: colorama in c:\\users\\harsh\\desktop\\cognitive computing\\myenv\\lib\\site-packages (from tqdm->chatterbot) (0.4.6)\n",
            "Requirement already satisfied: click>=8.0.0 in c:\\users\\harsh\\desktop\\cognitive computing\\myenv\\lib\\site-packages (from typer<1.0.0,>=0.3.0->spacy<3.9,>=3.8->chatterbot) (8.1.8)\n",
            "Requirement already satisfied: shellingham>=1.3.0 in c:\\users\\harsh\\desktop\\cognitive computing\\myenv\\lib\\site-packages (from typer<1.0.0,>=0.3.0->spacy<3.9,>=3.8->chatterbot) (1.5.4)\n",
            "Requirement already satisfied: rich>=10.11.0 in c:\\users\\harsh\\desktop\\cognitive computing\\myenv\\lib\\site-packages (from typer<1.0.0,>=0.3.0->spacy<3.9,>=3.8->chatterbot) (14.0.0)\n",
            "Requirement already satisfied: cloudpathlib<1.0.0,>=0.7.0 in c:\\users\\harsh\\desktop\\cognitive computing\\myenv\\lib\\site-packages (from weasel<0.5.0,>=0.1.0->spacy<3.9,>=3.8->chatterbot) (0.21.0)\n",
            "Requirement already satisfied: smart-open<8.0.0,>=5.2.1 in c:\\users\\harsh\\desktop\\cognitive computing\\myenv\\lib\\site-packages (from weasel<0.5.0,>=0.1.0->spacy<3.9,>=3.8->chatterbot) (7.1.0)\n",
            "Requirement already satisfied: wrapt in c:\\users\\harsh\\desktop\\cognitive computing\\myenv\\lib\\site-packages (from smart-open<8.0.0,>=5.2.1->weasel<0.5.0,>=0.1.0->spacy<3.9,>=3.8->chatterbot) (1.17.2)\n",
            "Requirement already satisfied: marisa-trie>=1.1.0 in c:\\users\\harsh\\desktop\\cognitive computing\\myenv\\lib\\site-packages (from language-data>=1.2->langcodes<4.0.0,>=3.2.0->spacy<3.9,>=3.8->chatterbot) (1.2.1)\n",
            "Requirement already satisfied: markdown-it-py>=2.2.0 in c:\\users\\harsh\\desktop\\cognitive computing\\myenv\\lib\\site-packages (from rich>=10.11.0->typer<1.0.0,>=0.3.0->spacy<3.9,>=3.8->chatterbot) (3.0.0)\n",
            "Requirement already satisfied: pygments<3.0.0,>=2.13.0 in c:\\users\\harsh\\desktop\\cognitive computing\\myenv\\lib\\site-packages (from rich>=10.11.0->typer<1.0.0,>=0.3.0->spacy<3.9,>=3.8->chatterbot) (2.19.1)\n",
            "Requirement already satisfied: mdurl~=0.1 in c:\\users\\harsh\\desktop\\cognitive computing\\myenv\\lib\\site-packages (from markdown-it-py>=2.2.0->rich>=10.11.0->typer<1.0.0,>=0.3.0->spacy<3.9,>=3.8->chatterbot) (0.1.2)\n",
            "Requirement already satisfied: MarkupSafe>=2.0 in c:\\users\\harsh\\desktop\\cognitive computing\\myenv\\lib\\site-packages (from jinja2->spacy<3.9,>=3.8->chatterbot) (3.0.2)\n",
            "Note: you may need to restart the kernel to use updated packages.\n"
          ]
        }
      ],
      "source": [
        "pip install chatterbot"
      ]
    },
    {
      "cell_type": "code",
      "execution_count": 4,
      "metadata": {
        "colab": {
          "base_uri": "https://localhost:8080/"
        },
        "id": "XHaliqu3pZBi",
        "outputId": "04384362-c47d-4322-dc78-096bc099ba98"
      },
      "outputs": [
        {
          "name": "stderr",
          "output_type": "stream",
          "text": [
            "List Trainer: 22it [00:00, 725.05it/s]\n"
          ]
        },
        {
          "name": "stdout",
          "output_type": "stream",
          "text": [
            "HealthBot is ready! (Type 'exit' to end)\n",
            "HealthBot: Sit down, breathe deeply, and drink water. If it continues, seek medical help.\n",
            "HealthBot: Goodbye! Stay healthy.\n",
            "HealthBot: Hello! I am HealthBot. How can I assist you today?\n",
            "HealthBot: You should rest, stay hydrated, and take a mild pain reliever if needed.\n",
            "HealthBot: Clean the wound with water, apply antiseptic, and cover it with a clean bandage.\n",
            "HealthBot: Drink plenty of fluids and rest. If the fever persists, please consult a doctor.\n",
            "HealthBot: Goodbye! Stay healthy.\n"
          ]
        }
      ],
      "source": [
        "# Import Libraries\n",
        "from chatterbot import ChatBot\n",
        "from chatterbot.trainers import ListTrainer\n",
        "\n",
        "# Create the chatbot\n",
        "healthbot = ChatBot(\n",
        "    'HealthBot',\n",
        "    read_only=True,\n",
        "    logic_adapters=[\n",
        "        'chatterbot.logic.BestMatch'\n",
        "    ]\n",
        ")\n",
        "\n",
        "# Training Data\n",
        "conversation = [\n",
        "    \"Hi\",\n",
        "    \"Hello! I am HealthBot. How can I assist you today?\",\n",
        "    \"Hello\",\n",
        "    \"Hi! Do you have a health-related question?\",\n",
        "    \"I have a headache\",\n",
        "    \"You should rest, stay hydrated, and take a mild pain reliever if needed.\",\n",
        "    \"What should I do if I have a fever?\",\n",
        "    \"Drink plenty of fluids and rest. If the fever persists, please consult a doctor.\",\n",
        "    \"I feel dizzy\",\n",
        "    \"Sit down, breathe deeply, and drink water. If it continues, seek medical help.\",\n",
        "    \"What should I eat for a cold?\",\n",
        "    \"Warm fluids, soups, citrus fruits, and light meals help during a cold.\",\n",
        "    \"How to stay healthy?\",\n",
        "    \"Eat balanced meals, exercise regularly, stay hydrated, and get enough sleep.\",\n",
        "    \"What should I do in case of a cut?\",\n",
        "    \"Clean the wound with water, apply antiseptic, and cover it with a clean bandage.\",\n",
        "    \"How much water should I drink daily?\",\n",
        "    \"Generally, 2 to 3 liters per day is recommended, but it varies based on your activity.\",\n",
        "    \"Thank you\",\n",
        "    \"You’re welcome! Take care.\",\n",
        "    \"Bye\",\n",
        "    \"Goodbye! Stay healthy.\"\n",
        "]\n",
        "\n",
        "# Train the chatbot\n",
        "trainer = ListTrainer(healthbot)\n",
        "trainer.train(conversation)\n",
        "\n",
        "# Chat Loop\n",
        "print(\"HealthBot is ready! (Type 'exit' to end)\")\n",
        "while True:\n",
        "    user_input = input(\"You: \")\n",
        "    if user_input.lower() == 'exit':\n",
        "        print(\"HealthBot: Goodbye! Stay healthy.\")\n",
        "        break\n",
        "    response = healthbot.get_response(user_input)\n",
        "    print(f\"HealthBot: {response}\")\n"
      ]
    }
  ],
  "metadata": {
    "colab": {
      "provenance": []
    },
    "kernelspec": {
      "display_name": "myenv",
      "language": "python",
      "name": "python3"
    },
    "language_info": {
      "codemirror_mode": {
        "name": "ipython",
        "version": 3
      },
      "file_extension": ".py",
      "mimetype": "text/x-python",
      "name": "python",
      "nbconvert_exporter": "python",
      "pygments_lexer": "ipython3",
      "version": "3.11.0"
    }
  },
  "nbformat": 4,
  "nbformat_minor": 0
}
