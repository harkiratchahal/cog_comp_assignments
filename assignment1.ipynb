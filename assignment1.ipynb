{
 "cells": [
  {
   "cell_type": "code",
   "execution_count": 1,
   "id": "1f510bfe-4b8c-4e5b-9a80-64682b2f4564",
   "metadata": {},
   "outputs": [
    {
     "name": "stdout",
     "output_type": "stream",
     "text": [
      "harkirat\n",
      "harkirat\n",
      "harkirat\n"
     ]
    }
   ],
   "source": [
    "print(\"harkirat\")\n",
    "print(\"harkirat\")\n",
    "print(\"harkirat\")"
   ]
  },
  {
   "cell_type": "code",
   "execution_count": 2,
   "id": "460a7a73-3fb1-4924-a320-35edb2a95c02",
   "metadata": {},
   "outputs": [
    {
     "name": "stdout",
     "output_type": "stream",
     "text": [
      "10  +  220  +  10  -->  240\n"
     ]
    }
   ],
   "source": [
    "\n",
    "a = 10\n",
    "b = 220\n",
    "c=10\n",
    "d = a + b +c    \n",
    "print (a, \" + \", b,\" + \", c, \" --> \", d)"
   ]
  },
  {
   "cell_type": "code",
   "execution_count": 3,
   "id": "fb2158df-71bf-4e88-b62b-1a61b7167477",
   "metadata": {},
   "outputs": [
    {
     "name": "stdout",
     "output_type": "stream",
     "text": [
      "Vansh  +   Harkirat  +   Singh  -->  Vansh Harkirat Singh\n"
     ]
    }
   ],
   "source": [
    "a = \"Vansh\"\n",
    "b = \" Harkirat\"\n",
    "c= \" Singh\"\n",
    "d = a + b+c\t\n",
    "print (a, \" + \", b, \" + \", c,\" --> \", d)"
   ]
  },
  {
   "cell_type": "code",
   "execution_count": 4,
   "id": "066bef89-0a5c-492f-b9ab-d4ef455b0608",
   "metadata": {},
   "outputs": [
    {
     "name": "stdout",
     "output_type": "stream",
     "text": [
      "Table of 7:\n",
      "7 x 1 = 7\n",
      "7 x 2 = 14\n",
      "7 x 3 = 21\n",
      "7 x 4 = 28\n",
      "7 x 5 = 35\n",
      "7 x 6 = 42\n",
      "7 x 7 = 49\n",
      "7 x 8 = 56\n",
      "7 x 9 = 63\n",
      "7 x 10 = 70\n",
      "\n",
      "Table of 9:\n",
      "9 x 1 = 9\n",
      "9 x 2 = 18\n",
      "9 x 3 = 27\n",
      "9 x 4 = 36\n",
      "9 x 5 = 45\n",
      "9 x 6 = 54\n",
      "9 x 7 = 63\n",
      "9 x 8 = 72\n",
      "9 x 9 = 81\n",
      "9 x 10 = 90\n"
     ]
    }
   ],
   "source": [
    "def print_table(num):\n",
    "    for i in range(1, 11):\n",
    "        print(f\"{num} x {i} = {num * i}\")\n",
    "\n",
    "print(\"Table of 7:\")\n",
    "print_table(7)\n",
    "\n",
    "print(\"\\nTable of 9:\")\n",
    "print_table(9)\n"
   ]
  },
  {
   "cell_type": "code",
   "execution_count": 5,
   "id": "dc7fa4a4-b258-4fb6-b871-3e0590ac21fd",
   "metadata": {},
   "outputs": [
    {
     "name": "stdin",
     "output_type": "stream",
     "text": [
      "Enter a number to print its table:  12\n"
     ]
    },
    {
     "name": "stdout",
     "output_type": "stream",
     "text": [
      "12 x 1 = 12\n",
      "12 x 2 = 24\n",
      "12 x 3 = 36\n",
      "12 x 4 = 48\n",
      "12 x 5 = 60\n",
      "12 x 6 = 72\n",
      "12 x 7 = 84\n",
      "12 x 8 = 96\n",
      "12 x 9 = 108\n",
      "12 x 10 = 120\n"
     ]
    }
   ],
   "source": [
    "def print_table(n):\n",
    "    for i in range(1, 11):\n",
    "        print(f\"{n} x {i} = {n * i}\")\n",
    "\n",
    "n = int(input(\"Enter a number to print its table: \"))\n",
    "print_table(n)\n"
   ]
  },
  {
   "cell_type": "code",
   "execution_count": 6,
   "id": "40a016e1-390c-43b8-880b-a3a47e018f27",
   "metadata": {},
   "outputs": [
    {
     "name": "stdin",
     "output_type": "stream",
     "text": [
      "Enter a number:  89\n"
     ]
    },
    {
     "name": "stdout",
     "output_type": "stream",
     "text": [
      "Sum of all numbers from 1 to 89 is: 4005\n"
     ]
    }
   ],
   "source": [
    "def sum_of_numbers(n):\n",
    "    return sum(range(1, n + 1))\n",
    "\n",
    "n = int(input(\"Enter a number: \"))\n",
    "print(\"Sum of all numbers from 1 to\", n, \"is:\", sum_of_numbers(n))\n"
   ]
  },
  {
   "cell_type": "code",
   "execution_count": 7,
   "id": "6c8126e0-5980-4e13-9c19-be1ffe3f6928",
   "metadata": {},
   "outputs": [
    {
     "name": "stdin",
     "output_type": "stream",
     "text": [
      "Enter first number:  5\n",
      "Enter second number:  78\n",
      "Enter third number:  100\n"
     ]
    },
    {
     "name": "stdout",
     "output_type": "stream",
     "text": [
      "The maximum number is: 100\n"
     ]
    }
   ],
   "source": [
    "a = int(input(\"Enter first number: \"))\n",
    "b = int(input(\"Enter second number: \"))\n",
    "c = int(input(\"Enter third number: \"))\n",
    "print(\"The maximum number is:\", max(a, b, c))\n"
   ]
  },
  {
   "cell_type": "code",
   "execution_count": 8,
   "id": "7b97b676-84f0-4ff1-a1d3-1e5bca15e06e",
   "metadata": {},
   "outputs": [
    {
     "name": "stdin",
     "output_type": "stream",
     "text": [
      "Enter a number:  56\n"
     ]
    },
    {
     "name": "stdout",
     "output_type": "stream",
     "text": [
      "Sum of all numbers divisible by 7 and 9: 0\n"
     ]
    }
   ],
   "source": [
    "def sum_divisible_by_7_and_9(n):\n",
    "    return sum(i for i in range(1, n + 1) if i % 7 == 0 and i % 9 == 0)\n",
    "\n",
    "n = int(input(\"Enter a number: \"))\n",
    "print(\"Sum of all numbers divisible by 7 and 9:\", sum_divisible_by_7_and_9(n))\n"
   ]
  },
  {
   "cell_type": "code",
   "execution_count": 9,
   "id": "4f8539a4-4221-4ab3-bd66-5d035c8e0875",
   "metadata": {},
   "outputs": [
    {
     "name": "stdin",
     "output_type": "stream",
     "text": [
      "Enter a number:  89\n"
     ]
    },
    {
     "name": "stdout",
     "output_type": "stream",
     "text": [
      "Sum of all prime numbers: 963\n"
     ]
    }
   ],
   "source": [
    "def is_prime(num):\n",
    "    if num < 2:\n",
    "        return False\n",
    "    for i in range(2, int(num**0.5) + 1):\n",
    "        if num % i == 0:\n",
    "            return False\n",
    "    return True\n",
    "\n",
    "def sum_of_primes(n):\n",
    "    return sum(i for i in range(1, n + 1) if is_prime(i))\n",
    "\n",
    "n = int(input(\"Enter a number: \"))\n",
    "print(\"Sum of all prime numbers:\", sum_of_primes(n))\n"
   ]
  },
  {
   "cell_type": "code",
   "execution_count": 10,
   "id": "69123f34-a9e3-4b95-b1fd-272424781e32",
   "metadata": {},
   "outputs": [
    {
     "name": "stdin",
     "output_type": "stream",
     "text": [
      "Enter a number:  89\n"
     ]
    },
    {
     "name": "stdout",
     "output_type": "stream",
     "text": [
      "Sum of all odd numbers: 2025\n"
     ]
    }
   ],
   "source": [
    "def sum_of_odds(n):\n",
    "    return sum(i for i in range(1, n + 1) if i % 2 != 0)\n",
    "\n",
    "n = int(input(\"Enter a number: \"))\n",
    "print(\"Sum of all odd numbers:\", sum_of_odds(n))\n"
   ]
  },
  {
   "cell_type": "code",
   "execution_count": 11,
   "id": "96cf16f0-bf07-459f-8e3f-12832526af67",
   "metadata": {},
   "outputs": [
    {
     "name": "stdin",
     "output_type": "stream",
     "text": [
      "Enter a number:  57\n"
     ]
    },
    {
     "name": "stdout",
     "output_type": "stream",
     "text": [
      "Sum of all prime numbers: 381\n"
     ]
    }
   ],
   "source": [
    "def is_prime(num):\n",
    "    if num < 2:\n",
    "        return False\n",
    "    for i in range(2, int(num**0.5) + 1):\n",
    "        if num % i == 0:\n",
    "            return False\n",
    "    return True\n",
    "\n",
    "def sum_of_primes(n):\n",
    "    return sum(i for i in range(1, n + 1) if is_prime(i))\n",
    "\n",
    "n = int(input(\"Enter a number: \"))\n",
    "print(\"Sum of all prime numbers:\", sum_of_primes(n))\n"
   ]
  },
  {
   "cell_type": "code",
   "execution_count": null,
   "id": "ac110a69-0cc8-48f3-adfc-1461e73768c3",
   "metadata": {},
   "outputs": [],
   "source": []
  }
 ],
 "metadata": {
  "kernelspec": {
   "display_name": "Python 3 (ipykernel)",
   "language": "python",
   "name": "python3"
  },
  "language_info": {
   "codemirror_mode": {
    "name": "ipython",
    "version": 3
   },
   "file_extension": ".py",
   "mimetype": "text/x-python",
   "name": "python",
   "nbconvert_exporter": "python",
   "pygments_lexer": "ipython3",
   "version": "3.13.1"
  }
 },
 "nbformat": 4,
 "nbformat_minor": 5
}
